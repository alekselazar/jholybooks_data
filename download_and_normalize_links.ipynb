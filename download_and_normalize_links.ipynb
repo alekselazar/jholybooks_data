{
 "metadata": {
  "language_info": {
   "codemirror_mode": {
    "name": "ipython",
    "version": 3
   },
   "file_extension": ".py",
   "mimetype": "text/x-python",
   "name": "python",
   "nbconvert_exporter": "python",
   "pygments_lexer": "ipython3",
   "version": "3.9.0"
  },
  "orig_nbformat": 4,
  "kernelspec": {
   "name": "python3",
   "display_name": "Python 3.9.0 64-bit"
  },
  "interpreter": {
   "hash": "65b799ff3037c73825aaeb240ff2a5e5f1c71043747e7ea33a3e442c1e39c7ca"
  }
 },
 "nbformat": 4,
 "nbformat_minor": 2,
 "cells": [
  {
   "cell_type": "markdown",
   "source": [
    "# Formatting xml file with links\r\n",
    "This notebok has a very simple functionality, providing formatting of xml file from tora.ws(n.d.) open source site of jewish holy texts to much prettyfied json format for the future mining of jewish text data from this site."
   ],
   "metadata": {}
  },
  {
   "cell_type": "code",
   "execution_count": 1,
   "source": [
    "#import dependencies\r\n",
    "import json\r\n",
    "import xmltodict\r\n",
    "import requests\r\n",
    "from collections import OrderedDict"
   ],
   "outputs": [],
   "metadata": {}
  },
  {
   "cell_type": "markdown",
   "source": [
    "Here we declare our constants:"
   ],
   "metadata": {}
  },
  {
   "cell_type": "code",
   "execution_count": 2,
   "source": [
    "#Base Url, which contains all the links to files with jewish text from tora.ws\r\n",
    "BASE_URL = 'http://mobile.tora.ws/xml/tanach.xml'\r\n",
    "#Headers for http request\r\n",
    "HEADERS = {'User-Agent': 'Mozilla/5.0 (Macintosh; Intel Mac OS X 10_10_1) AppleWebKit/537.36 (KHTML, like Gecko) Chrome/39.0.2171.95 Safari/537.36'}"
   ],
   "outputs": [],
   "metadata": {}
  },
  {
   "cell_type": "code",
   "execution_count": 3,
   "source": [
    "data = xmltodict.parse(requests.get(BASE_URL, headers = HEADERS).content.decode('utf-8', 'ignore'))\r\n",
    "data = data['index']['node'][1:]\r\n",
    "links = dict()"
   ],
   "outputs": [],
   "metadata": {}
  },
  {
   "cell_type": "markdown",
   "source": [
    "Function that normalizes the input @data and pushes it in to @target dict"
   ],
   "metadata": {}
  },
  {
   "cell_type": "code",
   "execution_count": 4,
   "source": [
    "\r\n",
    "def normalize(data, target):\r\n",
    "    if type(data) == list:\r\n",
    "        for item in data:\r\n",
    "            tmp = dict()\r\n",
    "            normalize(item, tmp)\r\n",
    "            target.update(tmp)\r\n",
    "    elif type(data) == OrderedDict:\r\n",
    "        name = data['@name']\r\n",
    "        target[name] = dict()\r\n",
    "        if 'node' in data.keys():\r\n",
    "            node = data['node']\r\n",
    "            normalize(node, target[name])\r\n",
    "        else:\r\n",
    "            for item in data:\r\n",
    "                if item == '@name': continue\r\n",
    "                target[name][item[1:]] = data[item]\r\n",
    "            return 0\r\n",
    "    else:\r\n",
    "        return 0"
   ],
   "outputs": [],
   "metadata": {}
  },
  {
   "cell_type": "code",
   "execution_count": 8,
   "source": [
    "normalize(data, links)\r\n",
    "with open('links.json', 'w', encoding = 'utf-8') as file:\r\n",
    "    json.dump(links, file, indent = 4, ensure_ascii = False)"
   ],
   "outputs": [],
   "metadata": {}
  }
 ]
}
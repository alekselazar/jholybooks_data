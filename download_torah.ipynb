{
 "metadata": {
  "language_info": {
   "codemirror_mode": {
    "name": "ipython",
    "version": 3
   },
   "file_extension": ".py",
   "mimetype": "text/x-python",
   "name": "python",
   "nbconvert_exporter": "python",
   "pygments_lexer": "ipython3",
   "version": "3.9.0"
  },
  "orig_nbformat": 4,
  "kernelspec": {
   "name": "python3",
   "display_name": "Python 3.9.0 64-bit"
  },
  "interpreter": {
   "hash": "65b799ff3037c73825aaeb240ff2a5e5f1c71043747e7ea33a3e442c1e39c7ca"
  }
 },
 "nbformat": 4,
 "nbformat_minor": 2,
 "cells": [
  {
   "cell_type": "markdown",
   "source": [
    "# Downloading Tora with metadata\r\n",
    "This notebook Downloads data from tora.ws site for future work"
   ],
   "metadata": {}
  },
  {
   "cell_type": "code",
   "execution_count": 1,
   "source": [
    "import json\r\n",
    "import xmltodict\r\n",
    "import requests\r\n",
    "import os"
   ],
   "outputs": [],
   "metadata": {}
  },
  {
   "cell_type": "code",
   "execution_count": 2,
   "source": [
    "url_format = 'http://mobile.tora.ws/xml/{0}.xml'\r\n",
    "headers = {'User-Agent': 'Mozilla/5.0 (Macintosh; Intel Mac OS X 10_10_1) AppleWebKit/537.36 (KHTML, like Gecko) Chrome/39.0.2171.95 Safari/537.36'}\r\n",
    "\r\n",
    "books = ['בראשית', 'שמות ', 'ויקרא ', 'במדבר', 'דברים']\r\n",
    "double_chaps = [\r\n",
    "    \"פרשת ויקהל פקודי\",\r\n",
    "    \"פרשת תזריע מצורע\",\r\n",
    "    \"פרשת אחרי מות-קדושים\",\r\n",
    "    \"פרשת בהר-בחקותי\",\r\n",
    "    \"פרשת חקת-בלק\",\r\n",
    "    \"פרשת מטות-מסעי\",\r\n",
    "    \"פרשת נצבים-וילך\"\r\n",
    "]\r\n",
    "with open('links.json', 'r', encoding='utf8') as file:\r\n",
    "    links = json.loads(file.read())[\"תנ''ך\"][\"תורה\"][\"תורה לפי פרשיות (שניים מקרא וא' תר')\"]"
   ],
   "outputs": [],
   "metadata": {}
  },
  {
   "cell_type": "code",
   "execution_count": 3,
   "source": [
    "#Function that deals with gimatria - the Jewish numerology\r\n",
    "def gimatria(letters):\r\n",
    "  alphabet = 'אבגדהוזחטיכלמנסעפצקרשת'\r\n",
    "  result = 0\r\n",
    "  try:\r\n",
    "    for l in letters:\r\n",
    "      n = alphabet.index(l) + 1\r\n",
    "      d = int(n/10)\r\n",
    "      result += (int(n%10) + d) * (10 ** d)\r\n",
    "  except:\r\n",
    "    print('Wrong parameter, hebrew letters only expected! Got: ', letters)\r\n",
    "  return result"
   ],
   "outputs": [],
   "metadata": {}
  },
  {
   "cell_type": "code",
   "execution_count": 5,
   "source": [
    "for book in books:\r\n",
    "    path = os.path.join('tora', book + '.json')\r\n",
    "    book_data = {\r\n",
    "        'name': book,\r\n",
    "        'chapters': dict(),\r\n",
    "        'weekly_chaps': dict(),\r\n",
    "        'double_chaps': list(),\r\n",
    "        'psukim': list(),\r\n",
    "        'onkelos': list()\r\n",
    "    }\r\n",
    "    chaps = links[book]\r\n",
    "    for chap in chaps:\r\n",
    "        chap_data = {\r\n",
    "            'from_to': list(),\r\n",
    "            'aliyot': dict()\r\n",
    "        }\r\n",
    "        data = xmltodict.parse(\r\n",
    "            requests.get(url_format.format(chaps[chap]['nid']), \r\n",
    "            headers=headers).content.decode('utf-8', 'ignore'))['book']['chap']\r\n",
    "        #As I have recognized, there is wrong data, so now it will be checked\r\n",
    "        #and then will be corrected by hand\r\n",
    "        try:\r\n",
    "            chap_data['from_to'] = [data[0]['p'][0]['@n'], data[-1]['p'][-1]['@n']]\r\n",
    "        except KeyError:\r\n",
    "            chap_data['from_to'] = [data[1]['p'][1]['@n'], data[-1]['p'][-1]['@n']]\r\n",
    "            #Find out where is damaged chapter\r\n",
    "            print(chap)\r\n",
    "        for alia in data:\r\n",
    "            if 'p' in alia.keys():\r\n",
    "                chap_data['aliyot'].update({alia['@n']: [alia['p'][0]['@n'], alia['p'][-1]['@n']]})\r\n",
    "                if chap in double_chaps:\r\n",
    "                    book_data['double_chaps'].append(chap)\r\n",
    "                    continue\r\n",
    "                for pasuk in alia['p']:\r\n",
    "                    chap_n, pasuk_n = pasuk['@n'].split('-')\r\n",
    "                    chap_n = gimatria(chap_n)\r\n",
    "                    pasuk_n = gimatria(pasuk_n[1:-1])\r\n",
    "                    if chap_n in book_data['chapters'].keys():\r\n",
    "                        if pasuk_n > book_data['chapters'][chap_n]:\r\n",
    "                            book_data['chapters'][chap_n] = pasuk_n\r\n",
    "                    else:\r\n",
    "                        book_data['chapters'][chap_n] = pasuk_n\r\n",
    "                    book_data['psukim'].append(pasuk['d'])\r\n",
    "                    #there is also a problem in some aliot with psukim devision, it should be checked and printed the wrong for hand fixing\r\n",
    "                    try:\r\n",
    "                        if type(pasuk['t']) != list: pasuk['t'] = [pasuk['t']]\r\n",
    "                        book_data['onkelos'].append(pasuk['t'][0]['#text'])\r\n",
    "                    except KeyError:\r\n",
    "                        print(chap, alia['@n'])\r\n",
    "        book_data['weekly_chaps'].update({chap: chap_data})\r\n",
    "    with open(path, 'w', encoding='utf-8') as file:\r\n",
    "        json.dump(book_data, file, indent=4, ensure_ascii=False)"
   ],
   "outputs": [
    {
     "output_type": "stream",
     "name": "stdout",
     "text": [
      "פרשת יתרו שביעי\n",
      "פרשת יתרו שביעי\n",
      "פרשת יתרו שביעי\n",
      "פרשת פינחס ראשון\n",
      "פרשת ואתחנן חמישי\n",
      "פרשת ואתחנן חמישי\n",
      "פרשת ואתחנן חמישי\n",
      "פרשת נצבים\n",
      "פרשת וילך\n"
     ]
    }
   ],
   "metadata": {}
  },
  {
   "cell_type": "code",
   "execution_count": 13,
   "source": [
    "problem_books = [\r\n",
    "    'שמות ',\r\n",
    "    'במדבר', \r\n",
    "    'דברים'\r\n",
    "]\r\n",
    "for book in problem_books:\r\n",
    "    with open(os.path.join('tora', book) + '.json', 'r', encoding = 'utf-8') as file:\r\n",
    "        json_represent = json.load(file)\r\n",
    "        pasuk_acc_to_chaps = 0\r\n",
    "        pasuk_in_psukim = 0\r\n",
    "        pasuk_in_onkelos = 0\r\n",
    "        for i in json_represent['chapters'].values():\r\n",
    "            pasuk_acc_to_chaps = pasuk_acc_to_chaps + i\r\n",
    "        for i in range(0, len(json_represent['psukim'])):\r\n",
    "            pasuk_in_psukim = pasuk_in_psukim + 1\r\n",
    "        for i in range(0, len(json_represent['onkelos'])):\r\n",
    "            pasuk_in_onkelos = pasuk_in_onkelos + 1\r\n",
    "        print(pasuk_acc_to_chaps, pasuk_in_psukim, pasuk_in_onkelos)"
   ],
   "outputs": [
    {
     "output_type": "stream",
     "name": "stdout",
     "text": [
      "1210 1210 1210\n",
      "1288 1288 1288\n",
      "956 956 956\n"
     ]
    }
   ],
   "metadata": {}
  },
  {
   "cell_type": "code",
   "execution_count": null,
   "source": [],
   "outputs": [],
   "metadata": {}
  }
 ]
}
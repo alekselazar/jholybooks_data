{
 "metadata": {
  "language_info": {
   "codemirror_mode": {
    "name": "ipython",
    "version": 3
   },
   "file_extension": ".py",
   "mimetype": "text/x-python",
   "name": "python",
   "nbconvert_exporter": "python",
   "pygments_lexer": "ipython3",
   "version": "3.9.0"
  },
  "orig_nbformat": 4,
  "kernelspec": {
   "name": "python3",
   "display_name": "Python 3.9.0 64-bit"
  },
  "interpreter": {
   "hash": "65b799ff3037c73825aaeb240ff2a5e5f1c71043747e7ea33a3e442c1e39c7ca"
  }
 },
 "nbformat": 4,
 "nbformat_minor": 2,
 "cells": [
  {
   "cell_type": "code",
   "execution_count": 1,
   "metadata": {},
   "outputs": [],
   "source": [
    "import json\n",
    "import xmltodict\n",
    "import requests\n",
    "import os"
   ]
  },
  {
   "cell_type": "code",
   "execution_count": 2,
   "metadata": {},
   "outputs": [],
   "source": [
    "url_format = 'http://mobile.tora.ws/xml/{0}.xml'\n",
    "headers = {'User-Agent': 'Mozilla/5.0 (Macintosh; Intel Mac OS X 10_10_1) AppleWebKit/537.36 (KHTML, like Gecko) Chrome/39.0.2171.95 Safari/537.36'}\n",
    "\n",
    "books = ['בראשית', 'שמות ', 'ויקרא ', 'במדבר', 'דברים']\n",
    "double_chaps = [\n",
    "    \"פרשת ויקהל פקודי\",\n",
    "    \"פרשת תזריע מצורע\",\n",
    "    \"פרשת אחרי מות-קדושים\",\n",
    "    \"פרשת בהר-בחקותי\",\n",
    "    \"פרשת חקת-בלק\",\n",
    "    \"פרשת מטות-מסעי\",\n",
    "    \"פרשת נצבים-וילך\"\n",
    "]\n",
    "with open('links.json', 'r', encoding='utf8') as file:\n",
    "    links = json.loads(file.read())[\"תנ''ך\"][\"תורה\"][\"תורה לפי פרשיות (שניים מקרא וא' תר')\"]"
   ]
  },
  {
   "cell_type": "code",
   "execution_count": 3,
   "metadata": {},
   "outputs": [],
   "source": [
    "#Function that deals with gimatria - the Jewish numerology\n",
    "def gimatria(letters):\n",
    "  alphabet = 'אבגדהוזחטיכלמנסעפצקרשת'\n",
    "  result = 0\n",
    "  try:\n",
    "    for l in letters:\n",
    "      n = alphabet.index(l) + 1\n",
    "      d = int(n/10)\n",
    "      result += (int(n%10) + d) * (10 ** d)\n",
    "  except:\n",
    "    print('Wrong parameter, hebrew letters only expected! Got: ', letters)\n",
    "  return result"
   ]
  },
  {
   "cell_type": "code",
   "execution_count": 5,
   "metadata": {},
   "outputs": [
    {
     "output_type": "stream",
     "name": "stdout",
     "text": [
      "פרשת יתרו שביעי\n",
      "פרשת יתרו שביעי\n",
      "פרשת יתרו שביעי\n",
      "פרשת פינחס ראשון\n",
      "פרשת ואתחנן חמישי\n",
      "פרשת ואתחנן חמישי\n",
      "פרשת ואתחנן חמישי\n",
      "פרשת נצבים\n",
      "פרשת וילך\n"
     ]
    }
   ],
   "source": [
    "for book in books:\n",
    "    path = os.path.join('tora', book + '.json')\n",
    "    book_data = {\n",
    "        'name': book,\n",
    "        'chapters': dict(),\n",
    "        'weekly_chaps': dict(),\n",
    "        'double_chaps': list(),\n",
    "        'psukim': list(),\n",
    "        'onkelos': list()\n",
    "    }\n",
    "    chaps = links[book]\n",
    "    for chap in chaps:\n",
    "        chap_data = {\n",
    "            'from_to': list(),\n",
    "            'aliyot': dict()\n",
    "        }\n",
    "        data = xmltodict.parse(\n",
    "            requests.get(url_format.format(chaps[chap]['nid']), \n",
    "            headers=headers).content.decode('utf-8', 'ignore'))['book']['chap']\n",
    "        #As I have recognized, there is wrong data, so now it will be checked\n",
    "        #and then will be corrected by hand\n",
    "        try:\n",
    "            chap_data['from_to'] = [data[0]['p'][0]['@n'], data[-1]['p'][-1]['@n']]\n",
    "        except KeyError:\n",
    "            chap_data['from_to'] = [data[1]['p'][1]['@n'], data[-1]['p'][-1]['@n']]\n",
    "            #Find out where is damaged chapter\n",
    "            print(chap)\n",
    "        for alia in data:\n",
    "            if 'p' in alia.keys():\n",
    "                chap_data['aliyot'].update({alia['@n']: [alia['p'][0]['@n'], alia['p'][-1]['@n']]})\n",
    "                if chap in double_chaps:\n",
    "                    book_data['double_chaps'].append(chap)\n",
    "                    continue\n",
    "                for pasuk in alia['p']:\n",
    "                    chap_n, pasuk_n = pasuk['@n'].split('-')\n",
    "                    chap_n = gimatria(chap_n)\n",
    "                    pasuk_n = gimatria(pasuk_n[1:-1])\n",
    "                    if chap_n in book_data['chapters'].keys():\n",
    "                        if pasuk_n > book_data['chapters'][chap_n]:\n",
    "                            book_data['chapters'][chap_n] = pasuk_n\n",
    "                    else:\n",
    "                        book_data['chapters'][chap_n] = pasuk_n\n",
    "                    book_data['psukim'].append(pasuk['d'])\n",
    "                    #there is also a problem in some aliot with psukim devision, it should be checked and printed the wrong for hand fixing\n",
    "                    try:\n",
    "                        if type(pasuk['t']) != list: pasuk['t'] = [pasuk['t']]\n",
    "                        book_data['onkelos'].append(pasuk['t'][0]['#text'])\n",
    "                    except KeyError:\n",
    "                        print(chap, alia['@n'])\n",
    "        book_data['weekly_chaps'].update({chap: chap_data})\n",
    "    with open(path, 'w', encoding='utf-8') as file:\n",
    "        json.dump(book_data, file, indent=4, ensure_ascii=False)"
   ]
  },
  {
   "cell_type": "code",
   "execution_count": 13,
   "metadata": {},
   "outputs": [
    {
     "output_type": "stream",
     "name": "stdout",
     "text": [
      "1210 1210 1210\n1288 1288 1288\n956 956 956\n"
     ]
    }
   ],
   "source": [
    "problem_books = [\n",
    "    'שמות ',\n",
    "    'במדבר', \n",
    "    'דברים'\n",
    "]\n",
    "for book in problem_books:\n",
    "    with open(os.path.join('tora', book) + '.json', 'r', encoding = 'utf-8') as file:\n",
    "        json_represent = json.load(file)\n",
    "        pasuk_acc_to_chaps = 0\n",
    "        pasuk_in_psukim = 0\n",
    "        pasuk_in_onkelos = 0\n",
    "        for i in json_represent['chapters'].values():\n",
    "            pasuk_acc_to_chaps = pasuk_acc_to_chaps + i\n",
    "        for i in range(0, len(json_represent['psukim'])):\n",
    "            pasuk_in_psukim = pasuk_in_psukim + 1\n",
    "        for i in range(0, len(json_represent['onkelos'])):\n",
    "            pasuk_in_onkelos = pasuk_in_onkelos + 1\n",
    "        print(pasuk_acc_to_chaps, pasuk_in_psukim, pasuk_in_onkelos)"
   ]
  },
  {
   "cell_type": "code",
   "execution_count": null,
   "metadata": {},
   "outputs": [],
   "source": []
  }
 ]
}